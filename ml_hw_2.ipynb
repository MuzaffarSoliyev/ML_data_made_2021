{
  "nbformat": 4,
  "nbformat_minor": 0,
  "metadata": {
    "colab": {
      "name": "ml_hw_2.ipynb",
      "provenance": []
    },
    "kernelspec": {
      "name": "python3",
      "display_name": "Python 3"
    },
    "language_info": {
      "name": "python"
    }
  },
  "cells": [
    {
      "cell_type": "markdown",
      "metadata": {
        "id": "6nLRnKAox7dn"
      },
      "source": [
        "1. Прочитайте и проанализируйте данные, выберите турниры, в которых есть данные о составах команд и повопросных результатах (поле mask в results.pkl). Для унификации предлагаю:\n",
        "\n",
        "*   взять в тренировочный набор турниры с dateStart из 2019 года;\n",
        "*   взять в тренировочный набор турниры с dateStart из 2019 года;\n"
      ]
    },
    {
      "cell_type": "code",
      "metadata": {
        "colab": {
          "base_uri": "https://localhost:8080/"
        },
        "id": "QOo4lTvIxIHH",
        "outputId": "af62ac7a-0637-427a-9380-b355056e2854"
      },
      "source": [
        "import zipfile\n",
        "import pickle\n",
        "\n",
        "! wget https://www.dropbox.com/s/s4qj0fpsn378m2i/chgk.zip -nc\n",
        "\n",
        "with zipfile.ZipFile('chgk.zip', 'r') as zip_ref:\n",
        "    zip_ref.extractall('.')\n",
        "\n",
        "tournaments = pickle.load(open('tournaments.pkl', 'rb'))\n",
        "results = pickle.load(open('results.pkl', 'rb'))"
      ],
      "execution_count": 1,
      "outputs": [
        {
          "output_type": "stream",
          "text": [
            "File ‘chgk.zip’ already there; not retrieving.\n",
            "\n"
          ],
          "name": "stdout"
        }
      ]
    },
    {
      "cell_type": "code",
      "metadata": {
        "id": "n5qyYxNIyipv"
      },
      "source": [
        "for id, data in tournaments.items():\n",
        "  print(data)"
      ],
      "execution_count": null,
      "outputs": []
    },
    {
      "cell_type": "code",
      "metadata": {
        "id": "wfVNl88z0YMD"
      },
      "source": [
        "def get_data_ids(year):\n",
        "  train = []\n",
        "  for id, data in tournaments.items():\n",
        "    if data[\"dateStart\"][:4] == year:\n",
        "      train.append(data)\n",
        "  train_2019_with_results = []\n",
        "  for idx, data in enumerate(train):\n",
        "    if data['id'] in results and results[data['id']] != []:\n",
        "      train_2019_with_results.append(data)\n",
        "  train_2019_with_results_mask = []\n",
        "  for idx, data in enumerate(train_2019_with_results):\n",
        "    if 'mask' in results[data['id']][0]:\n",
        "      train_2019_with_results_mask.append(data)\n",
        "  ids = []\n",
        "  for i in train_2019_with_results_mask:\n",
        "    ids.append(i[\"id\"])\n",
        "  return ids"
      ],
      "execution_count": 4,
      "outputs": []
    },
    {
      "cell_type": "code",
      "metadata": {
        "id": "poxNjTWH3dzK"
      },
      "source": [
        "train_ids = get_data_ids(\"2019\")\n",
        "test_ids = get_data_ids(\"2020\")"
      ],
      "execution_count": 5,
      "outputs": []
    },
    {
      "cell_type": "code",
      "metadata": {
        "colab": {
          "base_uri": "https://localhost:8080/"
        },
        "id": "dEHK0zrbq_8S",
        "outputId": "6b66f251-aae9-4610-8d6b-0c152b3502d8"
      },
      "source": [
        "print(len(train_ids))\n",
        "print(len(test_ids))"
      ],
      "execution_count": 6,
      "outputs": [
        {
          "output_type": "stream",
          "text": [
            "679\n",
            "176\n"
          ],
          "name": "stdout"
        }
      ]
    },
    {
      "cell_type": "code",
      "metadata": {
        "id": "SyyGztr24WVX"
      },
      "source": [
        "def get_results(results, ids):\n",
        "  data = {}\n",
        "  for id in ids:\n",
        "    data[id] = results[id]\n",
        "  return data\n",
        "\n",
        "res = get_results(results, test_ids + train_ids)"
      ],
      "execution_count": 7,
      "outputs": []
    },
    {
      "cell_type": "code",
      "metadata": {
        "id": "FnwtqRKp785g"
      },
      "source": [
        "res[4957]"
      ],
      "execution_count": null,
      "outputs": []
    },
    {
      "cell_type": "markdown",
      "metadata": {
        "id": "HlMymMkaF1GH"
      },
      "source": [
        "2. Постройте baseline-модель на основе линейной или логистической регрессии, которая будет обучать рейтинг-лист игроков. \n",
        "Замечания и подсказки:\n",
        "\n",
        "\n",
        "*   повопросные результаты — это фактически результаты броска монетки, и их предсказание скорее всего имеет отношение к бинарной классификации;\n",
        "*   в разных турнирах вопросы совсем разного уровня сложности, поэтому модель должна это учитывать;\n",
        "*   скорее всего, модель должна будет явно обучать не только силу каждого игрока, но и сложность каждого вопроса;\n",
        "*   для baseline-модели можно забыть о командах и считать, что повопросные результаты команды просто относятся к каждому из её игроков."
      ]
    },
    {
      "cell_type": "markdown",
      "metadata": {
        "id": "oeXA9KADYsGp"
      },
      "source": [
        "Решение:\n",
        "Данные представляют с собой id игрока и сложность вопоосы. Id игрока хотелось закодировть в виде one-hot вектора, но к сожалению не хватило ОЗУ. Дальше планировалось обучить регрессию (линейную или логистичекую)"
      ]
    },
    {
      "cell_type": "code",
      "metadata": {
        "id": "aa_9-NnxFTOo"
      },
      "source": [
        "count = 0\n",
        "for i in res.items():\n",
        "  if count == 1:\n",
        "    break\n",
        "  for elem in i[1]:\n",
        "    print(\"team: \", elem[\"team\"])\n",
        "    print(\"mask: \", elem[\"mask\"])\n",
        "    print(\"current: \", elem[\"current\"])\n",
        "    print(\"questionsTotal: \", elem[\"questionsTotal\"])\n",
        "    print(\"synchRequest: \", elem[\"synchRequest\"])\n",
        "    print(\"position: \", elem[\"position\"])\n",
        "    print(\"controversials: \", elem[\"controversials\"])\n",
        "    print(\"flags: \", elem[\"flags\"])\n",
        "    print(\"teamMembers: \", elem[\"teamMembers\"])\n",
        "  count += 1"
      ],
      "execution_count": null,
      "outputs": []
    },
    {
      "cell_type": "code",
      "metadata": {
        "colab": {
          "base_uri": "https://localhost:8080/"
        },
        "id": "DTzQINv0TVeW",
        "outputId": "ec43823b-9e09-42d2-898e-ac3a0213b1d8"
      },
      "source": [
        "len(res[4957])"
      ],
      "execution_count": 10,
      "outputs": [
        {
          "output_type": "execute_result",
          "data": {
            "text/plain": [
              "92"
            ]
          },
          "metadata": {
            "tags": []
          },
          "execution_count": 10
        }
      ]
    },
    {
      "cell_type": "code",
      "metadata": {
        "colab": {
          "base_uri": "https://localhost:8080/"
        },
        "id": "CYgAk5rQZ2l7",
        "outputId": "9e39f436-cb1b-4979-c562-d0abb558b165"
      },
      "source": [
        "len(res)"
      ],
      "execution_count": 11,
      "outputs": [
        {
          "output_type": "execute_result",
          "data": {
            "text/plain": [
              "855"
            ]
          },
          "metadata": {
            "tags": []
          },
          "execution_count": 11
        }
      ]
    },
    {
      "cell_type": "code",
      "metadata": {
        "id": "O8akktSL4OGt"
      },
      "source": [
        "import numpy as np"
      ],
      "execution_count": 12,
      "outputs": []
    },
    {
      "cell_type": "code",
      "metadata": {
        "id": "fxa8k21M6LlT"
      },
      "source": [
        "all_ids = train_ids + test_ids"
      ],
      "execution_count": 13,
      "outputs": []
    },
    {
      "cell_type": "code",
      "metadata": {
        "id": "nEuJejaWHtjW"
      },
      "source": [
        "import pandas as pd\n",
        "import numpy as np\n",
        "\n",
        "\n",
        "def get_dataset(ids):\n",
        "    dataset = []\n",
        "    for id in ids:\n",
        "        teams = []\n",
        "        masks = []        \n",
        "        for team in res[id]:\n",
        "            masks.append(team['mask'])\n",
        "            team_members = []\n",
        "            for member in team['teamMembers']:\n",
        "                team_members.append(member['player']['id'])\n",
        "            teams.append(team_members)\n",
        "\n",
        "        vec_of_masks = np.zeros(len(masks[0]))\n",
        "        for i, mask in enumerate(masks):\n",
        "            for question_num, result in enumerate(mask):\n",
        "                vec_of_masks[question_num] += int(str(result))\n",
        "         \n",
        "        team_count = len(results[id])\n",
        "        vec_of_masks = vec_of_masks / team_count\n",
        "        \n",
        "        for i in vec_of_masks:\n",
        "            i = i / team_count\n",
        "\n",
        "        for question_id, vec in enumerate(vec_of_masks):\n",
        "            for team_id, team in enumerate(teams):\n",
        "                result = masks[team_id][question_id]\n",
        "                for player in team:                    \n",
        "                    dataset.append([player, vec, int(str(result))])\n",
        "        return dataset"
      ],
      "execution_count": 16,
      "outputs": []
    },
    {
      "cell_type": "code",
      "metadata": {
        "id": "B9hty1hV7WI1"
      },
      "source": [
        "dataset = get_dataset(all_ids)"
      ],
      "execution_count": 17,
      "outputs": []
    },
    {
      "cell_type": "code",
      "metadata": {
        "colab": {
          "base_uri": "https://localhost:8080/"
        },
        "id": "gOP_BoMG76BX",
        "outputId": "12b7d3bb-9ea8-4bae-ca97-f31a81b4f940"
      },
      "source": [
        "dataset[:5]"
      ],
      "execution_count": 18,
      "outputs": [
        {
          "output_type": "execute_result",
          "data": {
            "text/plain": [
              "[[6212, 0.8831168831168831, 1],\n",
              " [18332, 0.8831168831168831, 1],\n",
              " [18036, 0.8831168831168831, 1],\n",
              " [22799, 0.8831168831168831, 1],\n",
              " [15456, 0.8831168831168831, 1]]"
            ]
          },
          "metadata": {
            "tags": []
          },
          "execution_count": 18
        }
      ]
    },
    {
      "cell_type": "code",
      "metadata": {
        "id": "SeqXtZpE5_fk"
      },
      "source": [
        "def vectorize(dataset, player_id_columns):\n",
        "    X = []\n",
        "    for row in dataset:\n",
        "        one_hot_player = [0] * len(player_id_columns)\n",
        "        one_hot_player[player_id_columns.index(row[0])] = 1.0\n",
        "        one_hot_player.append(row[1])\n",
        "        X.append(one_hot_player)\n",
        "    return X"
      ],
      "execution_count": 19,
      "outputs": []
    },
    {
      "cell_type": "code",
      "metadata": {
        "id": "oxsCL6zR6BHi"
      },
      "source": [
        "def get_all_players_id(all_ids):\n",
        "    ids = []\n",
        "    for id in all_ids:\n",
        "        for team in res[id]:\n",
        "            for player in team['teamMembers']:\n",
        "                ids.append(player['player']['id'])\n",
        "    return sorted(list(set(ids)))"
      ],
      "execution_count": 20,
      "outputs": []
    },
    {
      "cell_type": "code",
      "metadata": {
        "id": "-j4TgYV580S3"
      },
      "source": [
        "players_ids = get_all_players_id(all_ids)"
      ],
      "execution_count": 21,
      "outputs": []
    },
    {
      "cell_type": "code",
      "metadata": {
        "colab": {
          "base_uri": "https://localhost:8080/"
        },
        "id": "lA3GkaKs8-da",
        "outputId": "101d3aa7-d446-45f0-bdaa-90d0cc1f46e5"
      },
      "source": [
        "train_data = np.unique(get_dataset(train_ids), axis=0)\n",
        "np.array(train_data).shape"
      ],
      "execution_count": 22,
      "outputs": [
        {
          "output_type": "execute_result",
          "data": {
            "text/plain": [
              "(38850, 3)"
            ]
          },
          "metadata": {
            "tags": []
          },
          "execution_count": 22
        }
      ]
    },
    {
      "cell_type": "code",
      "metadata": {
        "id": "iNymFlRJ_CI6"
      },
      "source": [
        "# не хватает ОЗУ\n",
        "X_train = vectorize(train_data, players_ids)"
      ],
      "execution_count": null,
      "outputs": []
    },
    {
      "cell_type": "markdown",
      "metadata": {
        "id": "oHPs-ja_AGlv"
      },
      "source": [
        "3. Качество рейтинг-системы оценивается качеством предсказаний результатов турниров. Но сами повопросные результаты наши модели предсказывать вряд ли смогут, ведь неизвестно, насколько сложными окажутся вопросы в будущих турнирах; да и не нужны эти предсказания сами по себе. Поэтому:\n",
        "\n",
        "*   предложите способ предсказать результаты нового турнира с известными составами, но неизвестными вопросами, в виде ранжирования команд;\n",
        "*   в качестве метрики качества на тестовом наборе давайте считать ранговые корреляции Спирмена и Кендалла (их можно взять в пакете scipy) между реальным ранжированием в результатах турнира и предсказанным моделью, усреднённые по тестовому множеству турниров.\n",
        "\n",
        "\n",
        "\n"
      ]
    },
    {
      "cell_type": "code",
      "metadata": {
        "id": "V0MiFsFVAQnR"
      },
      "source": [
        "import pickle\n",
        "results = pickle.load(open('results.pkl', 'rb'))\n",
        "results = get_results(results, test_ids)"
      ],
      "execution_count": 23,
      "outputs": []
    },
    {
      "cell_type": "code",
      "metadata": {
        "id": "6mi7GXw8CffW"
      },
      "source": [
        "from collections import Counter\n",
        "from scipy.stats import spearmanr, kendalltau\n",
        "import math"
      ],
      "execution_count": 24,
      "outputs": []
    },
    {
      "cell_type": "markdown",
      "metadata": {
        "id": "IbG5RbmPEbdb"
      },
      "source": [
        "5. А что там с вопросами? Постройте “рейтинг-лист” турниров по сложности вопросов. Соответствует ли он интуиции (например, на чемпионате мира в целом должны быть сложные вопросы, а на турнирах для школьников — простые)? Если будет интересно: постройте топ сложных и простых вопросов со ссылками на конкретные записи в базе вопросов ЧГК (это чисто техническое дело, тут никакого ML нету).\n"
      ]
    },
    {
      "cell_type": "code",
      "metadata": {
        "id": "kjgzdJHeEf5i"
      },
      "source": [
        "results = pickle.load(open('results.pkl', 'rb'))\n",
        "results = get_results(results, train_ids)"
      ],
      "execution_count": 29,
      "outputs": []
    },
    {
      "cell_type": "code",
      "metadata": {
        "id": "YI5H9CEgF22R"
      },
      "source": [
        "def get_masks(ids):\n",
        "  good_ids = []\n",
        "  for id in ids:\n",
        "    all_questions = 0  \n",
        "    for key, val in tournaments[id][\"questionQty\"].items():          \n",
        "      all_questions += val\n",
        "    masks = []     \n",
        "    for team in results[id]:\n",
        "      masks.append(team['mask'])\n",
        "    good_mask = True\n",
        "    for mask in masks:\n",
        "      if mask == None:        \n",
        "        good_mask = False\n",
        "      elif len(mask) != all_questions:\n",
        "        good_mask = False\n",
        "    if good_mask:\n",
        "      ids.append(id)\n",
        "  return ids\n",
        "\n",
        "\n",
        "def get_dataset(ids):\n",
        "    dataset = {}\n",
        "    for id in ids:\n",
        "        all_questions = 0        \n",
        "        for k,v in tournaments[id]['questionQty'].items():          \n",
        "          all_questions += v \n",
        "        masks = []     \n",
        "        for team in results[tournament_id]:\n",
        "            if team['mask']:\n",
        "              masks.append(team['mask'])\n",
        "            else:\n",
        "              masks.append(\"0\" * all_questions)\n",
        "        vec_of_masks = np.zeros(questions_total)\n",
        "        for id, mask in enumerate(masks):\n",
        "          for question_num, result in enumerate(mask):\n",
        "            if result == '0' or result == '1':                \n",
        "              vec_of_masks[question_num] += int(str(result))\n",
        "\n",
        "        count = 0\n",
        "        for elem in vec_of_masks:\n",
        "            count += elem             \n",
        "        dataset[id] = count\n",
        "        \n",
        "    return dataset"
      ],
      "execution_count": 38,
      "outputs": []
    },
    {
      "cell_type": "code",
      "metadata": {
        "colab": {
          "base_uri": "https://localhost:8080/",
          "height": 317
        },
        "id": "aXPhG-uNKhLC",
        "outputId": "973a47f6-2830-41c4-848e-871f50287252"
      },
      "source": [
        "ids = get_masks(train_ids)\n",
        "tournamens_comp = get_dataset(ids)\n",
        "print(tournamens_comp)"
      ],
      "execution_count": 39,
      "outputs": [
        {
          "output_type": "error",
          "ename": "KeyboardInterrupt",
          "evalue": "ignored",
          "traceback": [
            "\u001b[0;31m---------------------------------------------------------------------------\u001b[0m",
            "\u001b[0;31mKeyboardInterrupt\u001b[0m                         Traceback (most recent call last)",
            "\u001b[0;32m<ipython-input-39-96840d3c5bdb>\u001b[0m in \u001b[0;36m<module>\u001b[0;34m()\u001b[0m\n\u001b[0;32m----> 1\u001b[0;31m \u001b[0mids\u001b[0m \u001b[0;34m=\u001b[0m \u001b[0mget_masks\u001b[0m\u001b[0;34m(\u001b[0m\u001b[0mtrain_ids\u001b[0m\u001b[0;34m)\u001b[0m\u001b[0;34m\u001b[0m\u001b[0;34m\u001b[0m\u001b[0m\n\u001b[0m\u001b[1;32m      2\u001b[0m \u001b[0mtournamens_comp\u001b[0m \u001b[0;34m=\u001b[0m \u001b[0mget_dataset\u001b[0m\u001b[0;34m(\u001b[0m\u001b[0mids\u001b[0m\u001b[0;34m)\u001b[0m\u001b[0;34m\u001b[0m\u001b[0;34m\u001b[0m\u001b[0m\n\u001b[1;32m      3\u001b[0m \u001b[0mprint\u001b[0m\u001b[0;34m(\u001b[0m\u001b[0mtournamens_comp\u001b[0m\u001b[0;34m)\u001b[0m\u001b[0;34m\u001b[0m\u001b[0;34m\u001b[0m\u001b[0m\n",
            "\u001b[0;32m<ipython-input-38-cb8ffad39d2b>\u001b[0m in \u001b[0;36mget_masks\u001b[0;34m(ids)\u001b[0m\n\u001b[1;32m     12\u001b[0m       \u001b[0;32mif\u001b[0m \u001b[0mmask\u001b[0m \u001b[0;34m==\u001b[0m \u001b[0;32mNone\u001b[0m\u001b[0;34m:\u001b[0m\u001b[0;34m\u001b[0m\u001b[0;34m\u001b[0m\u001b[0m\n\u001b[1;32m     13\u001b[0m         \u001b[0mgood_mask\u001b[0m \u001b[0;34m=\u001b[0m \u001b[0;32mFalse\u001b[0m\u001b[0;34m\u001b[0m\u001b[0;34m\u001b[0m\u001b[0m\n\u001b[0;32m---> 14\u001b[0;31m       \u001b[0;32melif\u001b[0m \u001b[0mlen\u001b[0m\u001b[0;34m(\u001b[0m\u001b[0mmask\u001b[0m\u001b[0;34m)\u001b[0m \u001b[0;34m!=\u001b[0m \u001b[0mall_questions\u001b[0m\u001b[0;34m:\u001b[0m\u001b[0;34m\u001b[0m\u001b[0;34m\u001b[0m\u001b[0m\n\u001b[0m\u001b[1;32m     15\u001b[0m         \u001b[0mgood_mask\u001b[0m \u001b[0;34m=\u001b[0m \u001b[0;32mFalse\u001b[0m\u001b[0;34m\u001b[0m\u001b[0;34m\u001b[0m\u001b[0m\n\u001b[1;32m     16\u001b[0m     \u001b[0;32mif\u001b[0m \u001b[0mgood_mask\u001b[0m\u001b[0;34m:\u001b[0m\u001b[0;34m\u001b[0m\u001b[0;34m\u001b[0m\u001b[0m\n",
            "\u001b[0;31mKeyboardInterrupt\u001b[0m: "
          ]
        }
      ]
    },
    {
      "cell_type": "code",
      "metadata": {
        "id": "ssAaGZbUH1i_"
      },
      "source": [
        ""
      ],
      "execution_count": null,
      "outputs": []
    }
  ]
}