{
  "nbformat": 4,
  "nbformat_minor": 0,
  "metadata": {
    "colab": {
      "name": "adv_ml_hw_3.ipynb",
      "provenance": [],
      "collapsed_sections": []
    },
    "kernelspec": {
      "name": "python3",
      "display_name": "Python 3"
    },
    "language_info": {
      "name": "python"
    }
  },
  "cells": [
    {
      "cell_type": "code",
      "metadata": {
        "id": "0bGksXY3tz16"
      },
      "source": [
        "from collections import Counter, defaultdict\n",
        "import re\n",
        "import random\n",
        "from copy import copy\n",
        "\n",
        "import pandas as pd\n",
        "import numpy as np\n",
        "from nltk.tokenize import RegexpTokenizer\n",
        "from nltk import everygrams\n",
        "from tqdm import tqdm"
      ],
      "execution_count": 1,
      "outputs": []
    },
    {
      "cell_type": "code",
      "metadata": {
        "id": "tAjNoMLat5mC"
      },
      "source": [
        "import zipfile\n",
        "from IPython.display import clear_output\n",
        "with zipfile.ZipFile('corpora.zip', 'r') as zip_ref:\n",
        "    zip_ref.extractall('.')\n",
        "\n",
        "clear_output()"
      ],
      "execution_count": 2,
      "outputs": []
    },
    {
      "cell_type": "markdown",
      "metadata": {
        "id": "tjRP4YkJuHFx"
      },
      "source": [
        "**Реализуйте базовый частотный метод по Шерлоку Холмсу:**\n",
        "\n",
        "подсчитайте частоты букв по корпусам (пунктуацию и капитализацию можно просто опустить, а вот пробелы лучше оставить);\n",
        "\n",
        "возьмите какие-нибудь тестовые тексты (нужно взять по меньшей мере 2-3 предложения, иначе вряд ли сработает), зашифруйте их посредством случайной перестановки символов;\n",
        "\n",
        "расшифруйте их таким частотным методом."
      ]
    },
    {
      "cell_type": "code",
      "metadata": {
        "id": "ss5QWeFluPM4"
      },
      "source": [
        "tokenizer = RegexpTokenizer(r'\\w+')\n",
        "alphabet = ' абвгдежзийклмнопрстуфхцчшщъыьэюя'\n",
        "\n",
        "def tokenize(text, tokenizer=tokenizer):\n",
        "    text = ''.join([c for c in text if c.lower() in alphabet])\n",
        "    return ' '.join(tokenizer.tokenize(text.lower()))\n",
        "\n",
        "\n",
        "def get_freqs(text, min_freq=0, n_gram=1):\n",
        "    freqs = dict()\n",
        "    if n_gram > 1:\n",
        "        text = [''.join(ngram) for ngram in everygrams(text, min_len=n_gram, max_len=n_gram)]\n",
        "    for key, value in Counter(text).items():\n",
        "        if value/len(text) > min_freq:\n",
        "            freqs[key] = value/len(text)\n",
        "    return freqs\n",
        "\n",
        "\n",
        "def generate_mapping(freqs):\n",
        "    original = list(freqs.keys())\n",
        "    replacements = np.random.choice(original, replace=False, size=len(freqs))\n",
        "    mapping = dict()\n",
        "    for original_char, replacement_char in zip(original, replacements):\n",
        "        mapping[original_char] = replacement_char\n",
        "    return mapping\n",
        "\n",
        "\n",
        "def apply_mapping(text, mapping):\n",
        "    return ''.join([mapping.get(c, 'ь') for c in text])\n",
        "\n",
        "\n",
        "def get_reverse_mapping(corpus_freqs, text_freqs):\n",
        "    corpus_freqs_sorted = sorted(corpus_freqs.items(), key=lambda x: x[1], reverse=True)\n",
        "    text_freqs_sorted = sorted(text_freqs.items(), key=lambda x: x[1], reverse=True)\n",
        "    \n",
        "    reverse_mapping = dict()\n",
        "    for text_char, text_freq in text_freqs_sorted:\n",
        "        min_diff = 1\n",
        "        best_char = None\n",
        "        for corpus_char, corpus_freq in corpus_freqs_sorted:\n",
        "            diff = abs(corpus_freq - text_freq)\n",
        "            if diff < min_diff:\n",
        "                best_char = corpus_char\n",
        "                min_diff = diff\n",
        "\n",
        "        reverse_mapping[text_char] = best_char\n",
        "        corpus_freqs_sorted = [(char, freq) for char, freq in corpus_freqs_sorted if char !=best_char]\n",
        "        \n",
        "    return reverse_mapping\n",
        "\n",
        "\n",
        "def char_accuracy(text1, text2):\n",
        "    assert len(text1) == len(text2)\n",
        "    right_chars = 0\n",
        "    for c1, c2 in zip(text1, text2):\n",
        "        right_chars += int(c1 == c2)\n",
        "    return right_chars / len(text1)"
      ],
      "execution_count": 3,
      "outputs": []
    },
    {
      "cell_type": "code",
      "metadata": {
        "id": "wWrIXGOxuWoX"
      },
      "source": [
        "np.random.seed(42)\n",
        "\n",
        "with open('AnnaKarenina.txt' ,'r') as file:\n",
        "    corpus1 = file.readlines()\n",
        "    \n",
        "with open('WarAndPeace.txt' ,'r') as file:\n",
        "    corpus2 = file.readlines()\n",
        "    \n",
        "corpus = corpus1 + corpus2\n",
        "\n",
        "tokenized_corpus = tokenize(' '.join(corpus))\n",
        "corpus_freqs = get_freqs(tokenized_corpus)\n",
        "mapping = generate_mapping(corpus_freqs)"
      ],
      "execution_count": 5,
      "outputs": []
    },
    {
      "cell_type": "code",
      "metadata": {
        "colab": {
          "base_uri": "https://localhost:8080/",
          "height": 171
        },
        "id": "Ix5KXGewuaIg",
        "outputId": "afbd09e0-8acc-410b-cef9-1ecb2a7b9bf4"
      },
      "source": [
        "with open('test.txt' ,'r') as file:\n",
        "    text = file.readlines()\n",
        "\n",
        "tokenized_text = tokenize(' '.join(text))\n",
        "encoded_text = apply_mapping(tokenized_text, mapping)\n",
        "text_freqs = get_freqs(encoded_text)\n",
        "tokenized_text"
      ],
      "execution_count": 7,
      "outputs": [
        {
          "output_type": "execute_result",
          "data": {
            "application/vnd.google.colaboratory.intrinsic+json": {
              "type": "string"
            },
            "text/plain": [
              "'зовут его николаем петровичем кирсановым у него в пятнадцати верстах от постоялого дворика хорошее имение в двести душ или как он выражается с тех пор как размежевался с крестьянами и завел ферму в две тысячи десятин земли отец его боевой генерал года полуграмотный грубый но не злой русский человек всю жизнь свою тянул лямку командовал сперва бригадой потом дивизией и постоянно жил в провинции где в силу своего чина играл довольно значительную роль николай петрович родился на юге россии подобно старшему своему брату павлу о котором речь впереди и воспитывался до четырнадцатилетнего возраста дома окруженный дешевыми гувернерами развязными но подобострастными адъютантами и прочими полковыми и штабными личностями родительница его из фамилии колязиных в девицах а в генеральшах агафоклея кузьминишна кирсанова принадлежала к числу матушеккомандирш носила пышные чепцы и шумные шелковые платья в церкви подходила первая ко кресту говорила громко и много допускала детей утром к ручке на ночь их благословляла словом жила в свое удовольствие в качестве генеральского сына николай петрович хотя не только не отличался храбростью но даже заслужил прозвище трусишки должен был подобно брату павлу поступить в военную службу но он переломил себе ногу в самый тот день когда уже прибыло известие об его определении и пролежав два месяца в постели на всю жизнь остался хроменьким отец махнул на него рукой и пустил его по штатской он повез его в петербург как только ему минул восемнадцатый год и поместил его в университет кстати брат его о ту пору вышел офицером в гвардейский полк молодые люди стали жить вдвоем на одной квартире под отдаленным надзором двоюродного дяди с материнской стороны ильи колязина важного чиновника отец их вернулся к своей дивизии и к своей супруге и лишь изредка присылал сыновьям большие четвертушки серой бумаги испещренные размашистым писарским почерком'"
            ]
          },
          "metadata": {
            "tags": []
          },
          "execution_count": 7
        }
      ]
    },
    {
      "cell_type": "code",
      "metadata": {
        "colab": {
          "base_uri": "https://localhost:8080/",
          "height": 171
        },
        "id": "8-NYawYvwd9P",
        "outputId": "f0d95972-c538-4e16-9c63-7d2830e340ad"
      },
      "source": [
        "encoded_text"
      ],
      "execution_count": 8,
      "outputs": [
        {
          "output_type": "execute_result",
          "data": {
            "application/vnd.google.colaboratory.intrinsic+json": {
              "type": "string"
            },
            "text/plain": [
              "'ашпимузюшувчьшнщзлугзмдшпчкзлуьчдрщвшпелуиувзюшупугэмвщыъщмчупздрмщхушмугшрмшэншюшуыпшдчьщухшдшфззучлзвчзупуыпзрмчуыифучнчуьщьушвупедщжщзмрэурумзхугшдуьщьудщалзжзпщнрэуруьдзрм эвщлчучуащпзнуйздлиупуыпзумерэкчуызрэмчвуазлнчушмзъузюшусшзпшбуюзвздщнуюшыщугшниюдщлшмвебуюдисебувшувзуаншбудиррьчбукзншпзьупроужчав урпшоумэвинунэльиуьшлщвышпщнургздпщусдчющышбугшмшлуычпчачзбучугшрмшэввшужчнупугдшпчвъччуюызупурчниурпшзюшукчвщучюдщнуышпшн вшуавщкчмзн виоудшн увчьшнщбугзмдшпчкудшычнрэувщуоюзудшррччугшышсвшурмщдфзлиурпшзлиусдщмиугщпниушуьшмшдшлудзк упгздзычучупшргчмепщнрэуышукзмедвщыъщмчнзмвзюшупшадщрмщуышлщушьдижзввебуызфзпелчуюипздвздщлчудщапэавелчувшугшышсшрмдщрмвелчущыцомщвмщлчучугдшкчлчугшньшпелчучуфмщсвелчунчквшрмэлчудшычмзн вчъщузюшучауйщлчнччуьшнэачвехупуызпчъщхущупуюзвздщн фщхущющйшьнзэуьиа лчвчфвщуьчдрщвшпщугдчвщынзжщнщуьукчрниулщмифзььшлщвычдфувшрчнщугефвезукзгъеучуфилвезуфзньшпезугнщм эупуъздьпчугшыхшычнщугздпщэуьшуьдзрмиуюшпшдчнщуюдшльшучулвшюшуышгирьщнщуызмзбуимдшлуьудикьзувщувшк учхуснщюшрншпнэнщурншпшлужчнщупурпшзуиышпшн рмпчзупуьщкзрмпзуюзвздщн рьшюшуревщувчьшнщбугзмдшпчкухшмэувзумшн ьшувзушмнчкщнрэухдщсдшрм оувшуыщжзуащрнижчнугдшапчтзумдирчфьчуышнжзвусенугшышсвшусдщмиугщпниугшрмигчм упупшзввиоурнижсиувшушвугздзншлчнурзсзувшюиупурщлебумшмуызв уьшюыщуижзугдчсеншучапзрмчзушсузюшушгдзызнзвччучугдшнзжщпуыпщулзрэъщупугшрмзнчувщупроужчав ушрмщнрэухдшлзв ьчлушмзъулщхвинувщувзюшудиьшбучугирмчнузюшугшуфмщмрьшбушвугшпзаузюшупугзмздсидюуьщьумшн ьшузлиулчвинупшрзлвщыъщмебуюшыучугшлзрмчнузюшупуивчпздрчмзмуьрмщмчусдщмузюшушумиугшдиупефзнушйчъздшлупуюпщдызбрьчбугшньулшншыезуноычурмщнчужчм упыпшзлувщушывшбуьпщдмчдзугшыушмыщнзввелувщыашдшлуыпшодшывшюшуыэычурулщмздчврьшбурмшдшвеучн чуьшнэачвщупщжвшюшукчвшпвчьщушмзъучхупздвинрэуьурпшзбуычпчаччучуьурпшзбуригдиюзучунчф учадзыьщугдчренщнуревшп элусшн фчзукзмпздмифьчурздшбусилщючучргзтдзввезудщалщфчрмелугчрщдрьчлугшкздьшл'"
            ]
          },
          "metadata": {
            "tags": []
          },
          "execution_count": 8
        }
      ]
    },
    {
      "cell_type": "code",
      "metadata": {
        "colab": {
          "base_uri": "https://localhost:8080/",
          "height": 171
        },
        "id": "ms7QQH5-whY0",
        "outputId": "b493eb37-837b-4758-ac9d-2535edf20812"
      },
      "source": [
        "reverse_mapping = get_reverse_mapping(corpus_freqs, text_freqs)\n",
        "decoded_text = apply_mapping(encoded_text, reverse_mapping)\n",
        "decoded_text"
      ],
      "execution_count": 9,
      "outputs": [
        {
          "output_type": "execute_result",
          "data": {
            "application/vnd.google.colaboratory.intrinsic+json": {
              "type": "string"
            },
            "text/plain": [
              "'зоспр еьо тадолнем яервосайем давкнтосгм п теьо с ябртнуэнра севкрнц ор яокроблоьо усовадн цовохее аметае с усекра упх ала днд от сгвнюнеркб к рец яов днд внзмеюеснлкб к двекрчбтнма а знсел февмп с усе ргкбйа уекбрат земла ореэ еьо шоесож ьетевнл ьоун яолпьвнмортгж ьвпшгж то те злож впккдаж йелосед скщ юазтч ксощ рбтпл лбмдп домнтуоснл кяевсн шваьнуож яором уасазаеж а яокробтто юал с явосатэаа ьуе с калп ксоеьо йатн аьвнл уосолчто зтнйарелчтпщ волч тадолнж яервосай воуалкб тн щье воккаа яоуошто крнвхемп ксоемп швнрп янслп о доровом вейч сяевеуа а сокяаргснлкб уо йергвтнуэнралертеьо созвнкрн уомн одвпюеттгж уехесгма ьпсевтевнма внзсбзтгма то яоуошокрвнкртгма нуыщрнтрнма а явойама яолдосгма а хрнштгма лайтокрбма воуарелчтаэн еьо аз фнмалаа долбзатгц с уесаэнц н с ьетевнлчхнц ньнфодлеб дпзчматахтн давкнтосн яватнулеюнлн д йаклп мнрпхеддомнтуавх токалн ягхтге йеяэг а хпмтге хелдосге ялнрчб с эевдса яоуцоуалн яевснб до двекрп ьосовалн ьвомдо а мтоьо уояпкднлн уереж првом д впйде тн тойч ац шлньоклослблн клосом юалн с ксое пуосолчкрсае с днйекрсе ьетевнлчкдоьо кгтн тадолнж яервосай цорб те ролчдо те орлайнлкб цвншвокрчщ то унюе знклпюал явозсаъе рвпкахда уолюет шгл яоуошто швнрп янслп яокрпяарч с соеттпщ клпюшп то от яевеломал кеше тоьп с кнмгж рор уетч доьун пюе явашгло азсекрае ош еьо оявеуелетаа а яволеюнс усн мекбэн с яокрела тн скщ юазтч окрнлкб цвометчдам ореэ мнцтпл тн теьо впдож а япкрал еьо яо хрнркдож от яосез еьо с яеревшпвь днд ролчдо емп матпл сокемтнуэнргж ьоу а яомекрал еьо с птасевкарер дкрнра швнр еьо о рп яовп сгхел офаэевом с ьснвуежкдаж яолд молоуге лщуа крнла юарч сусоем тн оутож дснвраве яоу орунлеттгм тнузовом усощвоутоьо убуа к мнреваткдож кровотг алча долбзатн снютоьо йатостадн ореэ ац севтплкб д ксоеж уасазаа а д ксоеж кпявпье а лахч азвеудн явакглнл кгтосчбм шолчхае йерсеврпхда кевож шпмньа акяеъветтге внзмнхакргм яакнвкдам яойевдом'"
            ]
          },
          "metadata": {
            "tags": []
          },
          "execution_count": 9
        }
      ]
    },
    {
      "cell_type": "code",
      "metadata": {
        "colab": {
          "base_uri": "https://localhost:8080/"
        },
        "id": "a0AwQZfawjyb",
        "outputId": "ccc8cea4-c859-4e61-c59d-2868e55a22d9"
      },
      "source": [
        "char_accuracy(tokenized_text, decoded_text)"
      ],
      "execution_count": 10,
      "outputs": [
        {
          "output_type": "execute_result",
          "data": {
            "text/plain": [
              "0.4042440318302387"
            ]
          },
          "metadata": {
            "tags": []
          },
          "execution_count": 10
        }
      ]
    },
    {
      "cell_type": "markdown",
      "metadata": {
        "id": "4t94YzMUwtQK"
      },
      "source": [
        "Результат не очень и расшифрованный текст невозможно прочитать."
      ]
    },
    {
      "cell_type": "markdown",
      "metadata": {
        "id": "NRWuvQ8OxLhc"
      },
      "source": [
        "**Вряд ли в результате получилась такая уж хорошая расшифровка, разве что если вы брали в качестве тестовых данных целые рассказы. Но и Шерлок Холмс был не так уж прост:** \n",
        "*после буквы E, которая действительно выделяется частотой, дальше он анализировал уже конкретные слова и пытался угадать, какими они могли бы быть. Я не знаю, как запрограммировать такой интуитивный анализ, так что давайте просто сделаем следующий логический шаг:*\n",
        "\n",
        "подсчитайте частоты биграмм (т.е. пар последовательных букв) по корпусам;\n",
        "\n",
        "проведите тестирование аналогично п.1, но при помощи биграмм."
      ]
    },
    {
      "cell_type": "code",
      "metadata": {
        "id": "Iwh3w1jWwsxj"
      },
      "source": [
        "corpus_freqs_bigram = get_freqs(tokenized_corpus, n_gram=2)\n",
        "text_freqs_bigram = get_freqs(encoded_text, n_gram=2)\n",
        "\n",
        "corpus_freqs_sorted = sorted(corpus_freqs_bigram.items(), key=lambda x: x[1], reverse=True)\n",
        "text_freqs_sorted = sorted(text_freqs_bigram.items(), key=lambda x: x[1], reverse=True)"
      ],
      "execution_count": 11,
      "outputs": []
    },
    {
      "cell_type": "code",
      "metadata": {
        "id": "dj5BBIumxcXr"
      },
      "source": [
        "def get_reverse_mapping_bigram(corpus_freqs, text_freqs, init_mapping=None):\n",
        "    corpus_freqs_sorted = sorted(corpus_freqs.items(), key=lambda x: x[1], reverse=True)\n",
        "    text_freqs_sorted = sorted(text_freqs.items(), key=lambda x: x[1], reverse=True)\n",
        "    \n",
        "    if init_mapping is None:\n",
        "        init_mapping = []\n",
        "    reverse_mapping = {k: v for k, v in init_mapping}\n",
        "    \n",
        "    for i, (text_bigram, text_freq) in enumerate(text_freqs_sorted):\n",
        "\n",
        "        filtred_freqs = copy(corpus_freqs_sorted)\n",
        "        \n",
        "        if text_bigram[0] in reverse_mapping.keys():\n",
        "            filtred_freqs = [(bigram, freq) for bigram, freq in filtred_freqs if bigram[0] == reverse_mapping[text_bigram[0]]]\n",
        "            \n",
        "        if text_bigram[1] in reverse_mapping.keys():\n",
        "            filtred_freqs = [(bigram, freq) for bigram, freq in filtred_freqs if bigram[1] == reverse_mapping[text_bigram[1]]]\n",
        "              \n",
        "        min_diff = 1\n",
        "        best_bigram = None\n",
        "        for bigram, freq in filtred_freqs:\n",
        "            diff = abs(freq - text_freq)\n",
        "            if diff < min_diff:\n",
        "                best_bigram = bigram\n",
        "                min_diff = diff\n",
        "                \n",
        "        if text_bigram[0] not in reverse_mapping.keys():\n",
        "            reverse_mapping[text_bigram[0]] = best_bigram[0]\n",
        "            \n",
        "        if text_bigram[1] not in reverse_mapping.keys():\n",
        "            reverse_mapping[text_bigram[1]] = best_bigram[1]\n",
        "\n",
        "        \n",
        "    return reverse_mapping"
      ],
      "execution_count": 12,
      "outputs": []
    },
    {
      "cell_type": "code",
      "metadata": {
        "colab": {
          "base_uri": "https://localhost:8080/",
          "height": 171
        },
        "id": "zOK_RCkPxeXy",
        "outputId": "dd910a61-1c16-4369-945b-524df3d6cee5"
      },
      "source": [
        "tokenized_text"
      ],
      "execution_count": 13,
      "outputs": [
        {
          "output_type": "execute_result",
          "data": {
            "application/vnd.google.colaboratory.intrinsic+json": {
              "type": "string"
            },
            "text/plain": [
              "'зовут его николаем петровичем кирсановым у него в пятнадцати верстах от постоялого дворика хорошее имение в двести душ или как он выражается с тех пор как размежевался с крестьянами и завел ферму в две тысячи десятин земли отец его боевой генерал года полуграмотный грубый но не злой русский человек всю жизнь свою тянул лямку командовал сперва бригадой потом дивизией и постоянно жил в провинции где в силу своего чина играл довольно значительную роль николай петрович родился на юге россии подобно старшему своему брату павлу о котором речь впереди и воспитывался до четырнадцатилетнего возраста дома окруженный дешевыми гувернерами развязными но подобострастными адъютантами и прочими полковыми и штабными личностями родительница его из фамилии колязиных в девицах а в генеральшах агафоклея кузьминишна кирсанова принадлежала к числу матушеккомандирш носила пышные чепцы и шумные шелковые платья в церкви подходила первая ко кресту говорила громко и много допускала детей утром к ручке на ночь их благословляла словом жила в свое удовольствие в качестве генеральского сына николай петрович хотя не только не отличался храбростью но даже заслужил прозвище трусишки должен был подобно брату павлу поступить в военную службу но он переломил себе ногу в самый тот день когда уже прибыло известие об его определении и пролежав два месяца в постели на всю жизнь остался хроменьким отец махнул на него рукой и пустил его по штатской он повез его в петербург как только ему минул восемнадцатый год и поместил его в университет кстати брат его о ту пору вышел офицером в гвардейский полк молодые люди стали жить вдвоем на одной квартире под отдаленным надзором двоюродного дяди с материнской стороны ильи колязина важного чиновника отец их вернулся к своей дивизии и к своей супруге и лишь изредка присылал сыновьям большие четвертушки серой бумаги испещренные размашистым писарским почерком'"
            ]
          },
          "metadata": {
            "tags": []
          },
          "execution_count": 13
        }
      ]
    },
    {
      "cell_type": "code",
      "metadata": {
        "colab": {
          "base_uri": "https://localhost:8080/",
          "height": 171
        },
        "id": "XR9IicqWxg0z",
        "outputId": "083b4b57-ffa3-45e4-d828-877efe2cb65b"
      },
      "source": [
        "encoded_text"
      ],
      "execution_count": 14,
      "outputs": [
        {
          "output_type": "execute_result",
          "data": {
            "application/vnd.google.colaboratory.intrinsic+json": {
              "type": "string"
            },
            "text/plain": [
              "'ашпимузюшувчьшнщзлугзмдшпчкзлуьчдрщвшпелуиувзюшупугэмвщыъщмчупздрмщхушмугшрмшэншюшуыпшдчьщухшдшфззучлзвчзупуыпзрмчуыифучнчуьщьушвупедщжщзмрэурумзхугшдуьщьудщалзжзпщнрэуруьдзрм эвщлчучуащпзнуйздлиупуыпзумерэкчуызрэмчвуазлнчушмзъузюшусшзпшбуюзвздщнуюшыщугшниюдщлшмвебуюдисебувшувзуаншбудиррьчбукзншпзьупроужчав урпшоумэвинунэльиуьшлщвышпщнургздпщусдчющышбугшмшлуычпчачзбучугшрмшэввшужчнупугдшпчвъччуюызупурчниурпшзюшукчвщучюдщнуышпшн вшуавщкчмзн виоудшн увчьшнщбугзмдшпчкудшычнрэувщуоюзудшррччугшышсвшурмщдфзлиурпшзлиусдщмиугщпниушуьшмшдшлудзк упгздзычучупшргчмепщнрэуышукзмедвщыъщмчнзмвзюшупшадщрмщуышлщушьдижзввебуызфзпелчуюипздвздщлчудщапэавелчувшугшышсшрмдщрмвелчущыцомщвмщлчучугдшкчлчугшньшпелчучуфмщсвелчунчквшрмэлчудшычмзн вчъщузюшучауйщлчнччуьшнэачвехупуызпчъщхущупуюзвздщн фщхущющйшьнзэуьиа лчвчфвщуьчдрщвшпщугдчвщынзжщнщуьукчрниулщмифзььшлщвычдфувшрчнщугефвезукзгъеучуфилвезуфзньшпезугнщм эупуъздьпчугшыхшычнщугздпщэуьшуьдзрмиуюшпшдчнщуюдшльшучулвшюшуышгирьщнщуызмзбуимдшлуьудикьзувщувшк учхуснщюшрншпнэнщурншпшлужчнщупурпшзуиышпшн рмпчзупуьщкзрмпзуюзвздщн рьшюшуревщувчьшнщбугзмдшпчкухшмэувзумшн ьшувзушмнчкщнрэухдщсдшрм оувшуыщжзуащрнижчнугдшапчтзумдирчфьчуышнжзвусенугшышсвшусдщмиугщпниугшрмигчм упупшзввиоурнижсиувшушвугздзншлчнурзсзувшюиупурщлебумшмуызв уьшюыщуижзугдчсеншучапзрмчзушсузюшушгдзызнзвччучугдшнзжщпуыпщулзрэъщупугшрмзнчувщупроужчав ушрмщнрэухдшлзв ьчлушмзъулщхвинувщувзюшудиьшбучугирмчнузюшугшуфмщмрьшбушвугшпзаузюшупугзмздсидюуьщьумшн ьшузлиулчвинупшрзлвщыъщмебуюшыучугшлзрмчнузюшупуивчпздрчмзмуьрмщмчусдщмузюшушумиугшдиупефзнушйчъздшлупуюпщдызбрьчбугшньулшншыезуноычурмщнчужчм упыпшзлувщушывшбуьпщдмчдзугшыушмыщнзввелувщыашдшлуыпшодшывшюшуыэычурулщмздчврьшбурмшдшвеучн чуьшнэачвщупщжвшюшукчвшпвчьщушмзъучхупздвинрэуьурпшзбуычпчаччучуьурпшзбуригдиюзучунчф учадзыьщугдчренщнуревшп элусшн фчзукзмпздмифьчурздшбусилщючучргзтдзввезудщалщфчрмелугчрщдрьчлугшкздьшл'"
            ]
          },
          "metadata": {
            "tags": []
          },
          "execution_count": 14
        }
      ]
    },
    {
      "cell_type": "code",
      "metadata": {
        "colab": {
          "base_uri": "https://localhost:8080/",
          "height": 171
        },
        "id": "sFDOBuMxxivK",
        "outputId": "ec1aa007-b5f9-4bc6-c728-f73f286d4181"
      },
      "source": [
        "reverse_mapping_bigram = get_reverse_mapping_bigram(corpus_freqs_bigram, text_freqs_bigram)\n",
        "decoded_text = apply_mapping(encoded_text, reverse_mapping_bigram)\n",
        "decoded_text"
      ],
      "execution_count": 15,
      "outputs": [
        {
          "output_type": "execute_result",
          "data": {
            "application/vnd.google.colaboratory.intrinsic+json": {
              "type": "string"
            },
            "text/plain": [
              "'баньо яна иоиалеял сяонаносял ион еианлл ь ияна н своиеичеоо нян оею ао са оавлана инаноие юанасяя оляиоя н иня оо иьс оло иеи аи нлнемеяо в   ояю сан иеи неблямянел в   иня оовиело о бенял шянль н иня ол всо ия воои бялло аояч яна еаяная няиянел наие сальннелаоиля нньеля иа ия блая нь  иоя сяланяи н с мобио  нас овиьл лвлиь иалеиианел  сянне енонеиая саоал ионобояя о са оавииа мол н снаноичоо ния н  оль  наяна соие оннел ианалоиа биесооялоиьс нало иоиалея сяонанос наиол в ие сня на  оо саиаеиа  оенсяль  наяль енеоь сенль а иаоанал нясо нсяняио о на соолнел в иа сяолниеичеооляоияна набне ое иале аиньмяииля иясянлло ньняниянело небнвбилло иа саиаеа оне оилло еирсоеиоело о снасоло салианлло о соееилло лосиа овло наиооялоиоче яна об шелолоо иалвбоилю н ияночею е н няиянелосею енешаиляв иьболоиосие ион еиане сноиеилямеле и со ль леоьсяииалеиионс иа оле слсиля сясчл о сьлиля сялианля слеоов н чянино саиюаиоле сяннев иа иня оь нананоле нналиа о лиана иась иеле ияояя ьонал и ньсия ие иасо ою елена ланлвле  ланал моле н  ная ьианало оноя н иеся оня няиянело иана  лие иоиалея сяонанос юаов ия оалоиа ия аолосел в юнеена оос иа иемя бе льмол снабнояя онь осио иалмяи елл саиаеиа енеоь сенль са оьсооо н наяииьс  льмеь иа аи сянялалол  яея иань н  елля оао ияио иание ьмя сноелла обня ооя ае яна асняияляиоо о сналямен ине ля вче н са ояло ие н с мобио а оел в юналяиоиол аояч леюиьл ие ияна ньиая о сь оол яна са соео иая аи саняб яна н сяоянеьнн иеи оалоиа яль лоиьл на ялиеичеоля наи о саля оол яна н ьионян оояо и оеоо енео яна а оь сань нлсял ашочянал н нненияя иоя сали лалаиля лсио  оело мооо нинаял ие аииая иненооня саи аоиеляиилл иеибанал инаснаииана ивио   леоянои иая  оанаил олоо иалвбоие немиана соианиоие аояч ою няниьл в и  наяя ионобоо о и  наяя  ьсньня о лосо обняиие сно ллел  лиановл еалосоя сяоняноьсио  яная еьлено о сяяняииля неблесо олл со ен иол сасяниал'"
            ]
          },
          "metadata": {
            "tags": []
          },
          "execution_count": 15
        }
      ]
    },
    {
      "cell_type": "code",
      "metadata": {
        "colab": {
          "base_uri": "https://localhost:8080/"
        },
        "id": "cKO-CsDJxkpV",
        "outputId": "35450564-232e-4702-d12a-3808e35d7fc1"
      },
      "source": [
        "char_accuracy(tokenized_text, decoded_text)"
      ],
      "execution_count": 16,
      "outputs": [
        {
          "output_type": "execute_result",
          "data": {
            "text/plain": [
              "0.1962864721485411"
            ]
          },
          "metadata": {
            "tags": []
          },
          "execution_count": 16
        }
      ]
    },
    {
      "cell_type": "markdown",
      "metadata": {
        "id": "Y0jNtfJyyHTr"
      },
      "source": [
        "Результат хуже. Наверно нужен очень большой текст..."
      ]
    },
    {
      "cell_type": "markdown",
      "metadata": {
        "id": "HcJDvLFdQL8E"
      },
      "source": [
        "**Но и это ещё не всё: биграммы скорее всего тоже далеко не всегда работают. Основная часть задания — в том, как можно их улучшить:**\n",
        "\n",
        "предложите метод обучения перестановки символов в этом задании, основанный на MCMC-сэмплировании, но по-прежнему работающий на основе статистики биграмм;\n",
        "\n",
        "реализуйте и протестируйте его, убедитесь, что результаты улучшились.\n"
      ]
    },
    {
      "cell_type": "markdown",
      "metadata": {
        "id": "9s_mbO9NQTAJ"
      },
      "source": [
        "У нас есть биграммы. Представим что у нас Марковская цепь. Частота биграмм есть вероятность перехода по цепи. \n",
        "Алгоритм:\n",
        "1. Инициализируем перестановки, восстанавливаем текст и считаем на нем текующую вероятность.\n",
        "2. Меняем местами пару букв\n",
        "3. Восстанавливаем текст с новой перестановкиой и считаем на нём вероятность\n",
        "4. Принимаем новую перестановку с вероятностью равной отношеню веротяности новой перестановки на текущую\n"
      ]
    },
    {
      "cell_type": "code",
      "metadata": {
        "id": "r_Hn9EGmx2V4"
      },
      "source": [
        "def get_freqs_smooth(text, min_freq=0, n_gram=2):\n",
        "    freqs = dict()\n",
        "    vocab_len = len(set(text))**n_gram\n",
        "    if n_gram > 1:\n",
        "        text = [''.join(ngram) for ngram in everygrams(text, min_len=n_gram, max_len=n_gram)]\n",
        "    for key, value in Counter(text).items():\n",
        "        freqs[key] = (value + 1) / (len(text) + vocab_len) # Сглаживаем, чтобы не было нулей\n",
        "    return freqs\n",
        "\n",
        "def get_text_proba(text, mapping, freqs, n_gram=2):\n",
        "    decoded_text = apply_mapping(text, mapping)\n",
        "    log_proba = 0\n",
        "    for i in range(len(decoded_text) - n_gram):\n",
        "        bigram = decoded_text[i: i + n_gram]\n",
        "        bigram_proba = freqs.get(bigram)\n",
        "        if bigram_proba is None:\n",
        "            bigram_proba = 1 / (len(text) + len(alphabet)**n_gram) # Сглаживаем, чтобы не было нулей\n",
        "            \n",
        "        log_proba += np.log(bigram_proba)\n",
        "    return log_proba\n",
        "        \n",
        "def get_reverse_mapping_mcmc(encoded_text, alphabet_encoded, alphabet_corpus, freqs_corpus, n_iters=10000, n_trials=10, n_gram=2):\n",
        "\n",
        "    accept_count = 0\n",
        "    best_mapping = None\n",
        "    all_mappings = []\n",
        "    best_log_likekihood = -np.inf\n",
        "\n",
        "    for trial in tqdm(range(n_trials), leave=False, position=0, total=n_trials):\n",
        "\n",
        "        alphabet_encoded = list(alphabet_encoded)\n",
        "        alphabet_iter = list(alphabet_corpus)\n",
        "        reverse_mapping = {k: v for k, v in zip(alphabet_encoded, alphabet_iter[:len(alphabet_encoded)])}\n",
        "        log_proba_current = get_text_proba(encoded_text, reverse_mapping, freqs_corpus, n_gram=n_gram)\n",
        "\n",
        "        for i in range(n_iters):\n",
        "            alphabet_proposal = alphabet_iter[:]\n",
        "            idx1, idx2 = np.random.choice(len(alphabet_proposal), replace=False, size=2)\n",
        "            alphabet_proposal[idx1], alphabet_proposal[idx2] = alphabet_proposal[idx2], alphabet_proposal[idx1]\n",
        "            reverse_mapping_proposal = {k: v for k, v in zip(alphabet_encoded, alphabet_proposal[:len(alphabet_encoded)])}\n",
        "            log_proba_proposal = get_text_proba(encoded_text, reverse_mapping_proposal, freqs_corpus, n_gram=n_gram)\n",
        "\n",
        "            p_accept = np.exp(log_proba_proposal - log_proba_current)\n",
        "\n",
        "            if p_accept > np.random.rand():\n",
        "                accept_count += 1\n",
        "                alphabet_iter = alphabet_proposal\n",
        "                log_proba_current = log_proba_proposal\n",
        "                reverse_mapping = reverse_mapping_proposal\n",
        "\n",
        "        if log_proba_current > best_log_likekihood:\n",
        "            best_log_likekihood = log_proba_current\n",
        "            best_mapping = reverse_mapping\n",
        "            \n",
        "        all_mappings.append(reverse_mapping)\n",
        "\n",
        "\n",
        "    print(f'Best likelihood: {best_log_likekihood}')        \n",
        "    print(f'Accept raito: {accept_count / (n_iters * n_trials)}')\n",
        "    return best_mapping, all_mappings"
      ],
      "execution_count": 23,
      "outputs": []
    },
    {
      "cell_type": "code",
      "metadata": {
        "id": "Ea0lrXupUEdm"
      },
      "source": [
        "freqs_corpus = get_freqs_smooth(tokenized_corpus, n_gram=2)"
      ],
      "execution_count": 24,
      "outputs": []
    },
    {
      "cell_type": "code",
      "metadata": {
        "colab": {
          "base_uri": "https://localhost:8080/"
        },
        "id": "CtEsc3wVUGvk",
        "outputId": "143a060f-e31d-4d49-b904-f02c05459c46"
      },
      "source": [
        "best_reverse_mapping, _ = get_reverse_mapping_mcmc(\n",
        "    encoded_text, \n",
        "    alphabet_encoded=alphabet, \n",
        "    alphabet_corpus=alphabet,\n",
        "    freqs_corpus=freqs_corpus\n",
        ")"
      ],
      "execution_count": 25,
      "outputs": [
        {
          "output_type": "stream",
          "text": [
            "                                               "
          ],
          "name": "stderr"
        },
        {
          "output_type": "stream",
          "text": [
            "Best likelihood: -10611.230112139352\n",
            "Accept raito: 0.01236\n"
          ],
          "name": "stdout"
        },
        {
          "output_type": "stream",
          "text": [
            "\r"
          ],
          "name": "stderr"
        }
      ]
    },
    {
      "cell_type": "code",
      "metadata": {
        "colab": {
          "base_uri": "https://localhost:8080/",
          "height": 171
        },
        "id": "XgX-Sh0LVEq6",
        "outputId": "92c1aad6-de6b-4d66-d4c1-d3fda03ac7c0"
      },
      "source": [
        "apply_mapping(encoded_text, best_reverse_mapping)"
      ],
      "execution_count": 26,
      "outputs": [
        {
          "output_type": "execute_result",
          "data": {
            "application/vnd.google.colaboratory.intrinsic+json": {
              "type": "string"
            },
            "text/plain": [
              "'зовут его николаем петровичем кирсановым у него в пятнадцати верстах от постоялого дворика хорошее имение в двести душ или как он выражается с тех пор как размежевался с крестьянами и завел эерму в две тысячи десятин земли отец его боевой генерал года полуграмотный грубый но не злой русский человек всю жизнь свою тянул лямку командовал сперва бригадой потом дивизией и постоянно жил в провинции где в силу своего чина играл довольно значительную роль николай петрович родился на юге россии подобно старшему своему брату павлу о котором речь впереди и воспитывался до четырнадцатилетнего возраста дома окруженный дешевыми гувернерами развязными но подобострастными адъютантами и прочими полковыми и штабными личностями родительница его из эамилии колязиных в девицах а в генеральшах агаэоклея кузьминишна кирсанова принадлежала к числу матушеккомандирш носила пышные чепцы и шумные шелковые платья в церкви подходила первая ко кресту говорила громко и много допускала детей утром к ручке на ночь их благословляла словом жила в свое удовольствие в качестве генеральского сына николай петрович хотя не только не отличался храбростью но даже заслужил прозвище трусишки должен был подобно брату павлу поступить в военную службу но он переломил себе ногу в самый тот день когда уже прибыло известие об его определении и пролежав два месяца в постели на всю жизнь остался хроменьким отец махнул на него рукой и пустил его по штатской он повез его в петербург как только ему минул восемнадцатый год и поместил его в университет кстати брат его о ту пору вышел оэицером в гвардейский полк молодые люди стали жить вдвоем на одной квартире под отдаленным надзором двоюродного дяди с материнской стороны ильи колязина важного чиновника отец их вернулся к своей дивизии и к своей супруге и лишь изредка присылал сыновьям большие четвертушки серой бумаги испещренные размашистым писарским почерком'"
            ]
          },
          "metadata": {
            "tags": []
          },
          "execution_count": 26
        }
      ]
    },
    {
      "cell_type": "markdown",
      "metadata": {
        "id": "EuPsF4xFVO6L"
      },
      "source": [
        "**Расшифруйте сообщение:**"
      ]
    },
    {
      "cell_type": "code",
      "metadata": {
        "id": "FMc0teJrVKvQ"
      },
      "source": [
        "msg = \"←⇠⇒↟↹↷⇊↹↷↟↤↟↨←↹↝⇛⇯↳⇴⇒⇈↝⇊↾↹↟⇒↟↹⇷⇛⇞↨↟↹↝⇛⇯↳⇴⇒⇈↝⇊↾↹↨←⇌⇠↨↹⇙↹⇸↨⇛↙⇛↹⇠⇛⇛↲⇆←↝↟↞↹⇌⇛↨⇛⇯⇊↾↹⇒←↙⇌⇛↹⇷⇯⇛⇞↟↨⇴↨⇈↹⇠⇌⇛⇯←←↹↷⇠←↙⇛↹↷⇊↹↷⇠←↹⇠↤←⇒⇴⇒↟↹⇷⇯⇴↷↟⇒⇈↝⇛↹↟↹⇷⇛⇒⇙⇞↟↨←↹↳⇴⇌⇠↟↳⇴⇒⇈↝⇊↾↹↲⇴⇒⇒↹⇰⇴↹⇷⇛⇠⇒←↤↝←←↹⇞←↨↷←⇯↨⇛←↹⇰⇴↤⇴↝↟←↹⇌⇙⇯⇠⇴↹↘⇛↨↞↹⇌⇛↝←⇞↝⇛↹↞↹↝↟⇞←↙⇛↹↝←↹⇛↲←⇆⇴⇏\""
      ],
      "execution_count": 48,
      "outputs": []
    },
    {
      "cell_type": "code",
      "metadata": {
        "colab": {
          "base_uri": "https://localhost:8080/"
        },
        "id": "Kg8zrgf4YEMF",
        "outputId": "710cd556-9787-415b-c49a-2025bc57b9b7"
      },
      "source": [
        "corpus_freqs_sorted = sorted(corpus_freqs.items(), key=lambda x: x[1], reverse=True)\n",
        "message_freqs_sorted = sorted(Counter(msg).items(), key=lambda x: x[1], reverse=True)\n",
        "\n",
        "alphabet_corpus = ''.join([c for c, _ in corpus_freqs_sorted])\n",
        "alphabet_message = ''.join([c for c, _ in message_freqs_sorted])\n",
        "alphabet_corpus, abc_message"
      ],
      "execution_count": 49,
      "outputs": [
        {
          "output_type": "execute_result",
          "data": {
            "text/plain": [
              "(' оеанитслвркдмупяьгыбзчжйшхюэцщфъ', '↹←⇛↟⇒↝⇴↨⇠⇯↷⇌⇊⇞⇈⇷↤↳↾↙⇙↲↞⇆⇰⇸↘⇏')"
            ]
          },
          "metadata": {
            "tags": []
          },
          "execution_count": 49
        }
      ]
    },
    {
      "cell_type": "code",
      "metadata": {
        "id": "uav5uyFjVeYb"
      },
      "source": [
        "freqs_corpus = get_freqs_smooth(tokenized_corpus, n_gram=2)"
      ],
      "execution_count": 50,
      "outputs": []
    },
    {
      "cell_type": "code",
      "metadata": {
        "colab": {
          "base_uri": "https://localhost:8080/"
        },
        "id": "ETBwgvT5X1Q2",
        "outputId": "313e11c6-067d-48b4-e846-d393c756b17e"
      },
      "source": [
        "best_reverse_mapping, _ = get_reverse_mapping_mcmc(\n",
        "    message, \n",
        "    alphabet_encoded=alphabet_message, \n",
        "    alphabet_corpus=alphabet_corpus,\n",
        "    freqs_corpus=freqs_corpus,\n",
        "    n_iters=10000,\n",
        "    n_trials=50,\n",
        ")"
      ],
      "execution_count": 51,
      "outputs": [
        {
          "output_type": "stream",
          "text": [
            "                                               "
          ],
          "name": "stderr"
        },
        {
          "output_type": "stream",
          "text": [
            "Best likelihood: -1231.2547551943435\n",
            "Accept raito: 0.042772\n"
          ],
          "name": "stdout"
        },
        {
          "output_type": "stream",
          "text": [
            "\r"
          ],
          "name": "stderr"
        }
      ]
    },
    {
      "cell_type": "code",
      "metadata": {
        "colab": {
          "base_uri": "https://localhost:8080/",
          "height": 52
        },
        "id": "Oj4RRxavZOzT",
        "outputId": "6fb69fb4-7c01-4716-c27e-740767d0558e"
      },
      "source": [
        "apply_mapping(msg, best_reverse_mapping)"
      ],
      "execution_count": 52,
      "outputs": [
        {
          "output_type": "execute_result",
          "data": {
            "application/vnd.google.colaboratory.intrinsic+json": {
              "type": "string"
            },
            "text/plain": [
              "'если вы вимите нордальный или почти нордальный текст у этого соожшения который легко прочитать скорее всего вы все смелали правильно и получите даксидальный жалл за послемнее четвертое замание курса ботя конечно я ничего не ожешаю'"
            ]
          },
          "metadata": {
            "tags": []
          },
          "execution_count": 52
        }
      ]
    },
    {
      "cell_type": "markdown",
      "metadata": {
        "id": "KRfal83makoY"
      },
      "source": [
        "**Бонус:** \n",
        "\n",
        "а что если от биграмм перейти к триграммам (тройкам букв) или даже больше? Улучшатся ли результаты? Когда улучшатся, а когда нет? Чтобы ответить на этот вопрос эмпирически, уже может понадобиться погенерировать много тестовых перестановок и последить за метриками, глазами может быть и не видно."
      ]
    },
    {
      "cell_type": "code",
      "metadata": {
        "colab": {
          "base_uri": "https://localhost:8080/"
        },
        "id": "0DuM1fVMbqvv",
        "outputId": "fbc6973f-3274-40dd-c18d-0b34d4ae437d"
      },
      "source": [
        "corpus_freqs_sorted = sorted(corpus_freqs.items(), key=lambda x: x[1], reverse=True)\n",
        "message_freqs_sorted = sorted(Counter(msg).items(), key=lambda x: x[1], reverse=True)\n",
        "\n",
        "alphabet_corpus = ''.join([c for c, _ in corpus_freqs_sorted])\n",
        "alphabet_message = ''.join([c for c, _ in message_freqs_sorted])\n",
        "alphabet_corpus, alphabet_message"
      ],
      "execution_count": 53,
      "outputs": [
        {
          "output_type": "execute_result",
          "data": {
            "text/plain": [
              "(' оеанитслвркдмупяьгыбзчжйшхюэцщфъ', '↹←⇛↟⇒↝⇴↨⇠⇯↷⇌⇊⇞⇈⇷↤↳↾↙⇙↲↞⇆⇰⇸↘⇏')"
            ]
          },
          "metadata": {
            "tags": []
          },
          "execution_count": 53
        }
      ]
    },
    {
      "cell_type": "code",
      "metadata": {
        "id": "cLRt78Cjb-AQ"
      },
      "source": [
        "freqs_corpus_trigramm = get_freqs_smooth(tokenized_corpus, n_gram=3)"
      ],
      "execution_count": 54,
      "outputs": []
    },
    {
      "cell_type": "code",
      "metadata": {
        "colab": {
          "base_uri": "https://localhost:8080/"
        },
        "id": "Er7YdnQLZ6rw",
        "outputId": "f5186874-f820-4fd2-a901-20771ee5d826"
      },
      "source": [
        "best_reverse_mapping, _ = get_reverse_mapping_mcmc(\n",
        "    message, \n",
        "    alphabet_encoded=alphabet_message, \n",
        "    alphabet_corpus=alphabet_corpus,\n",
        "    freqs_corpus=freqs_corpus_trigramm,\n",
        "    n_gram=3,\n",
        "    n_iters=10000,\n",
        "    n_trials=20,\n",
        ")"
      ],
      "execution_count": 55,
      "outputs": [
        {
          "output_type": "stream",
          "text": [
            "                                               "
          ],
          "name": "stderr"
        },
        {
          "output_type": "stream",
          "text": [
            "Best likelihood: -1725.6602016838426\n",
            "Accept raito: 0.042765\n"
          ],
          "name": "stdout"
        },
        {
          "output_type": "stream",
          "text": [
            "\r"
          ],
          "name": "stderr"
        }
      ]
    },
    {
      "cell_type": "code",
      "metadata": {
        "colab": {
          "base_uri": "https://localhost:8080/",
          "height": 52
        },
        "id": "DFMPQdH9cO_b",
        "outputId": "a4522beb-054e-4a24-9095-04fea27c6473"
      },
      "source": [
        "apply_mapping(msg, best_reverse_mapping)"
      ],
      "execution_count": 56,
      "outputs": [
        {
          "output_type": "execute_result",
          "data": {
            "application/vnd.google.colaboratory.intrinsic+json": {
              "type": "string"
            },
            "text/plain": [
              "'если вы видите нормальный или почти нормальный текст у этого сообщения который легко прочитать скорее всего вы все сделали правильно и получите максимальный балл за последнее четвертое задание курса хотя конечно я ничего не обещаъ'"
            ]
          },
          "metadata": {
            "tags": []
          },
          "execution_count": 56
        }
      ]
    },
    {
      "cell_type": "markdown",
      "metadata": {
        "id": "Db1tZE8ueWrR"
      },
      "source": [
        "Попробуем длинный текст"
      ]
    },
    {
      "cell_type": "code",
      "metadata": {
        "colab": {
          "base_uri": "https://localhost:8080/"
        },
        "id": "esTNsxzOeWSS",
        "outputId": "65bdc173-fc37-482f-e93d-bc0b94bc658b"
      },
      "source": [
        "mapping = generate_mapping(corpus_freqs)\n",
        "encoded_text = apply_mapping(tokenized_text, mapping)\n",
        "text_freqs = get_freqs(encoded_text)\n",
        "\n",
        "corpus_freqs_sorted = sorted(corpus_freqs.items(), key=lambda x: x[1], reverse=True)\n",
        "text_freqs_sorted = sorted(text_freqs.items(), key=lambda x: x[1], reverse=True)\n",
        "\n",
        "alphabet_corpus = ''.join([c for c, _ in corpus_freqs_sorted])\n",
        "alphabet_text = ''.join([c for c, _ in text_freqs_sorted])\n",
        "alphabet_corpus, alphabet_text"
      ],
      "execution_count": 77,
      "outputs": [
        {
          "output_type": "execute_result",
          "data": {
            "text/plain": [
              "(' оеанитслвркдмупяьгыбзчжйшхюэцщфъ', 'зеипчорщфйбмуцышю дьтлсакхявжгнъ')"
            ]
          },
          "metadata": {
            "tags": []
          },
          "execution_count": 77
        }
      ]
    },
    {
      "cell_type": "code",
      "metadata": {
        "colab": {
          "base_uri": "https://localhost:8080/"
        },
        "id": "VfcV13NKecNx",
        "outputId": "31f2b634-678a-4439-a329-56707ef27ad5"
      },
      "source": [
        "best_reverse_mapping, _ = get_reverse_mapping_mcmc(\n",
        "    encoded_text, \n",
        "    alphabet_encoded=alphabet_text, \n",
        "    alphabet_corpus=alphabet_corpus,\n",
        "    freqs_corpus=freqs_corpus,\n",
        "    n_gram=2,\n",
        "    n_iters=10000,\n",
        "    n_trials=5,\n",
        ")\n",
        "print(encoded_text)\n",
        "decoded_text = apply_mapping(encoded_text, best_reverse_mapping)\n",
        "print(decoded_text)\n",
        "print(char_accuracy(tokenized_text, decoded_text))"
      ],
      "execution_count": 78,
      "outputs": [
        {
          "output_type": "stream",
          "text": [
            "                                             "
          ],
          "name": "stderr"
        },
        {
          "output_type": "stream",
          "text": [
            "Best likelihood: -10611.230112139352\n",
            "Accept raito: 0.00816\n",
            "терыйзиюезопмещчиузшийферпсиузмпфбчоер узызоиюезрзшдйочцячйпзрифбйчвзейзшебйедщеюезцрефпмчзвефекиизпуиопизрзцрибйпзцыкзпщпзмчмзеозр фчхчийбдзбзйивзшефзмчмзфчтуихирчщбдзбзмфибйьдочупзпзтчрищзгифуызрзцризй бдспзцибдйпозтиущпзейиязиюезаеирелзюиоифчщзюецчзшещыюфчуейо лзюфыа лзоезоизтщелзфыббмплзсищеримзрбжзхптоьзбрежзйдоыщзщдумызмеучоцерчщзбшифрчзафпючцелзшейеузцпрптпилзпзшебйедооезхпщзрзшферпояппзюцизрзбпщызбреиюезспочзпюфчщзцерещьоезточспйищьоыжзфещьзопмещчлзшийферпсзфецпщбдзочзжюизфеббппзшецеаоезбйчфкиуызбреиуызафчйызшчрщызезмейефеузфисьзршифицпзпзребшпй рчщбдзцезсий фочцячйпщийоиюезретфчбйчзцеучземфыхиоо лзцикир упзюырифоифчупзфчтрдто упзоезшецеаебйфчбйо упзчцъжйчойчупзпзшфеспупзшещмер упзпзкйчао упзщпсоебйдупзфецпйищьопячзиюезптзгчупщппзмещдтпо взрзцирпячвзчзрзюиоифчщькчвзчючгемщидзмытьупопкочзмпфбчоерчзшфпочцщихчщчзмзспбщызучйыкиммеучоцпфкзоебпщчзш ко изсишя зпзкыуо изкищмер изшщчйьдзрзяифмрпзшецвецпщчзшифрчдзмезмфибйызюерефпщчзюфеумезпзуоеюезцешыбмчщчзцийилзыйфеузмзфысмизочзоесьзпвзащчюебщерщдщчзбщереузхпщчзрзбреизыцерещьбйрпизрзмчсибйризюиоифчщьбмеюезб очзопмещчлзшийферпсзвейдзоизйещьмезоизейщпсчщбдзвфчафебйьжзоезцчхизтчбщыхпщзшфетрпнизйфыбпкмпзцещхиоза щзшецеаоезафчйызшчрщызшебйышпйьзрзреиооыжзбщыхаызоезеозшифищеупщзбиаизоеюызрзбчу лзйейзциоьзмеюцчзыхизшфпа щезптрибйпизеазиюезешфицищиоппзпзшфещихчрзцрчзуибдячзрзшебйищпзочзрбжзхптоьзебйчщбдзвфеуиоьмпузейиязучвоыщзочзоиюезфымелзпзшыбйпщзиюезшезкйчйбмелзеозшеритзиюезрзшийифаыфюзмчмзйещьмезиуызупоыщзребиуочцячй лзюецзпзшеуибйпщзиюезрзыоприфбпйийзмбйчйпзафчйзиюезезйызшефызр кищзегпяифеузрзюрчфцилбмплзшещмзуещец изщжцпзбйчщпзхпйьзрцреиузочзецоелзмрчфйпфизшецзейцчщиоо узочцтефеузцрежфецоеюезцдцпзбзучйифпобмелзбйефео зпщьпзмещдтпочзрчхоеюезспоеропмчзейиязпвзрифоыщбдзмзбреилзцпрптппзпзмзбреилзбышфыюизпзщпкьзптфицмчзшфпб щчщзб оерьдузаещькпизсийрифйыкмпзбифелзаыучюпзпбшинфиоо изфчтучкпбй узшпбчфбмпузшесифмеу\n",
            "зовут его николаем петровичем кирсановым у него в пятнадцати верстах от постоялого дворика хорошее имение в двести душ или как он выражается с тех пор как размежевался с крестьянами и завел эерму в две тысячи десятин земли отец его боевой генерал года полуграмотный грубый но не злой русский человек всю жизнь свою тянул лямку командовал сперва бригадой потом дивизией и постоянно жил в провинции где в силу своего чина играл довольно значительную роль николай петрович родился на юге россии подобно старшему своему брату павлу о котором речь впереди и воспитывался до четырнадцатилетнего возраста дома окруженный дешевыми гувернерами развязными но подобострастными адъютантами и прочими полковыми и штабными личностями родительница его из эамилии колязиных в девицах а в генеральшах агаэоклея кузьминишна кирсанова принадлежала к числу матушеккомандирш носила пышные чепцы и шумные шелковые платья в церкви подходила первая ко кресту говорила громко и много допускала детей утром к ручке на ночь их благословляла словом жила в свое удовольствие в качестве генеральского сына николай петрович хотя не только не отличался храбростью но даже заслужил прозвище трусишки должен был подобно брату павлу поступить в военную службу но он переломил себе ногу в самый тот день когда уже прибыло известие об его определении и пролежав два месяца в постели на всю жизнь остался хроменьким отец махнул на него рукой и пустил его по штатской он повез его в петербург как только ему минул восемнадцатый год и поместил его в университет кстати брат его о ту пору вышел оэицером в гвардейский полк молодые люди стали жить вдвоем на одной квартире под отдаленным надзором двоюродного дяди с материнской стороны ильи колязина важного чиновника отец их вернулся к своей дивизии и к своей супруге и лишь изредка присылал сыновьям большие четвертушки серой бумаги испещренные размашистым писарским почерком\n",
            "0.9978779840848806\n"
          ],
          "name": "stdout"
        },
        {
          "output_type": "stream",
          "text": [
            "\r"
          ],
          "name": "stderr"
        }
      ]
    },
    {
      "cell_type": "markdown",
      "metadata": {
        "id": "G5Nb-Bdjfp37"
      },
      "source": [
        "С относительно большим текстом биграммы показали отличный результат"
      ]
    },
    {
      "cell_type": "code",
      "metadata": {
        "colab": {
          "base_uri": "https://localhost:8080/"
        },
        "id": "XWvPMQiHkQHp",
        "outputId": "7c662897-2c76-4e15-91c2-d98ec75bbaaf"
      },
      "source": [
        "best_reverse_mapping, _ = get_reverse_mapping_mcmc(\n",
        "    encoded_text, \n",
        "    alphabet_encoded=alphabet_text, \n",
        "    alphabet_corpus=alphabet_corpus,\n",
        "    freqs_corpus=freqs_corpus_trigramm,\n",
        "    n_gram=3,\n",
        "    n_iters=10000,\n",
        "    n_trials=5,\n",
        ")\n",
        "\n",
        "print(encoded_text)\n",
        "decoded_text = apply_mapping(encoded_text, best_reverse_mapping)\n",
        "print(decoded_text)\n",
        "print(char_accuracy(tokenized_text, decoded_text))"
      ],
      "execution_count": 81,
      "outputs": [
        {
          "output_type": "stream",
          "text": [
            " 20%|██        | 1/5 [00:34<02:16, 34.14s/it]/usr/local/lib/python3.7/dist-packages/ipykernel_launcher.py:43: RuntimeWarning: overflow encountered in exp\n",
            "                                             "
          ],
          "name": "stderr"
        },
        {
          "output_type": "stream",
          "text": [
            "Best likelihood: -14811.27751124043\n",
            "Accept raito: 0.00664\n",
            "терыйзиюезопмещчиузшийферпсиузмпфбчоер узызоиюезрзшдйочцячйпзрифбйчвзейзшебйедщеюезцрефпмчзвефекиизпуиопизрзцрибйпзцыкзпщпзмчмзеозр фчхчийбдзбзйивзшефзмчмзфчтуихирчщбдзбзмфибйьдочупзпзтчрищзгифуызрзцризй бдспзцибдйпозтиущпзейиязиюезаеирелзюиоифчщзюецчзшещыюфчуейо лзюфыа лзоезоизтщелзфыббмплзсищеримзрбжзхптоьзбрежзйдоыщзщдумызмеучоцерчщзбшифрчзафпючцелзшейеузцпрптпилзпзшебйедооезхпщзрзшферпояппзюцизрзбпщызбреиюезспочзпюфчщзцерещьоезточспйищьоыжзфещьзопмещчлзшийферпсзфецпщбдзочзжюизфеббппзшецеаоезбйчфкиуызбреиуызафчйызшчрщызезмейефеузфисьзршифицпзпзребшпй рчщбдзцезсий фочцячйпщийоиюезретфчбйчзцеучземфыхиоо лзцикир упзюырифоифчупзфчтрдто упзоезшецеаебйфчбйо упзчцъжйчойчупзпзшфеспупзшещмер упзпзкйчао упзщпсоебйдупзфецпйищьопячзиюезптзгчупщппзмещдтпо взрзцирпячвзчзрзюиоифчщькчвзчючгемщидзмытьупопкочзмпфбчоерчзшфпочцщихчщчзмзспбщызучйыкиммеучоцпфкзоебпщчзш ко изсишя зпзкыуо изкищмер изшщчйьдзрзяифмрпзшецвецпщчзшифрчдзмезмфибйызюерефпщчзюфеумезпзуоеюезцешыбмчщчзцийилзыйфеузмзфысмизочзоесьзпвзащчюебщерщдщчзбщереузхпщчзрзбреизыцерещьбйрпизрзмчсибйризюиоифчщьбмеюезб очзопмещчлзшийферпсзвейдзоизйещьмезоизейщпсчщбдзвфчафебйьжзоезцчхизтчбщыхпщзшфетрпнизйфыбпкмпзцещхиоза щзшецеаоезафчйызшчрщызшебйышпйьзрзреиооыжзбщыхаызоезеозшифищеупщзбиаизоеюызрзбчу лзйейзциоьзмеюцчзыхизшфпа щезптрибйпизеазиюезешфицищиоппзпзшфещихчрзцрчзуибдячзрзшебйищпзочзрбжзхптоьзебйчщбдзвфеуиоьмпузейиязучвоыщзочзоиюезфымелзпзшыбйпщзиюезшезкйчйбмелзеозшеритзиюезрзшийифаыфюзмчмзйещьмезиуызупоыщзребиуочцячй лзюецзпзшеуибйпщзиюезрзыоприфбпйийзмбйчйпзафчйзиюезезйызшефызр кищзегпяифеузрзюрчфцилбмплзшещмзуещец изщжцпзбйчщпзхпйьзрцреиузочзецоелзмрчфйпфизшецзейцчщиоо узочцтефеузцрежфецоеюезцдцпзбзучйифпобмелзбйефео зпщьпзмещдтпочзрчхоеюезспоеропмчзейиязпвзрифоыщбдзмзбреилзцпрптппзпзмзбреилзбышфыюизпзщпкьзптфицмчзшфпб щчщзб оерьдузаещькпизсийрифйыкмпзбифелзаыучюпзпбшинфиоо изфчтучкпбй узшпбчфбмпузшесифмеу\n",
            "зовут его николаем петровичем кирсановым у него в пятнадцати верстах от постоялого дворика хорошее имение в двести душ или как он выражается с тех пор как размежевался с крестьянами и завел эерму в две тысячи десятин земли отец его боевой генерал года полуграмотный грубый но не злой русский человек всю жизнь свою тянул лямку командовал сперва бригадой потом дивизией и постоянно жил в провинции где в силу своего чина играл довольно значительную роль николай петрович родился на юге россии подобно старшему своему брату павлу о котором речь впереди и воспитывался до четырнадцатилетнего возраста дома окруженный дешевыми гувернерами развязными но подобострастными адщютантами и прочими полковыми и штабными личностями родительница его из эамилии колязиных в девицах а в генеральшах агаэоклея кузьминишна кирсанова принадлежала к числу матушеккомандирш носила пышные чепцы и шумные шелковые платья в церкви подходила первая ко кресту говорила громко и много допускала детей утром к ручке на ночь их благословляла словом жила в свое удовольствие в качестве генеральского сына николай петрович хотя не только не отличался храбростью но даже заслужил прозвиъе трусишки должен был подобно брату павлу поступить в военную службу но он переломил себе ногу в самый тот день когда уже прибыло известие об его определении и пролежав два месяца в постели на всю жизнь остался хроменьким отец махнул на него рукой и пустил его по штатской он повез его в петербург как только ему минул восемнадцатый год и поместил его в университет кстати брат его о ту пору вышел оэицером в гвардейский полк молодые люди стали жить вдвоем на одной квартире под отдаленным надзором двоюродного дяди с материнской стороны ильи колязина важного чиновника отец их вернулся к своей дивизии и к своей супруге и лишь изредка присылал сыновьям большие четвертушки серой бумаги испеъренные размашистым писарским почерком\n",
            "0.9962864721485412\n"
          ],
          "name": "stdout"
        },
        {
          "output_type": "stream",
          "text": [
            "\r"
          ],
          "name": "stderr"
        }
      ]
    },
    {
      "cell_type": "code",
      "metadata": {
        "id": "BaB1y_GHmpsC"
      },
      "source": [
        "freqs_corpus_fourgramm = get_freqs_smooth(tokenized_corpus, n_gram=4)"
      ],
      "execution_count": 82,
      "outputs": []
    },
    {
      "cell_type": "code",
      "metadata": {
        "colab": {
          "base_uri": "https://localhost:8080/"
        },
        "id": "9adAD3Qfm0HZ",
        "outputId": "75afd3d2-c4bb-482b-e887-b6f300c23dd9"
      },
      "source": [
        "best_reverse_mapping, _ = get_reverse_mapping_mcmc(\n",
        "    encoded_text, \n",
        "    alphabet_encoded=alphabet_text, \n",
        "    alphabet_corpus=alphabet_corpus,\n",
        "    freqs_corpus=freqs_corpus_fourgramm,\n",
        "    n_gram=4,\n",
        "    n_iters=10000,\n",
        "    n_trials=5,\n",
        ")\n",
        "\n",
        "print(encoded_text)\n",
        "decoded_text = apply_mapping(encoded_text, best_reverse_mapping)\n",
        "print(decoded_text)\n",
        "print(char_accuracy(tokenized_text, decoded_text))"
      ],
      "execution_count": 83,
      "outputs": [
        {
          "output_type": "stream",
          "text": [
            "  0%|          | 0/5 [00:00<?, ?it/s]/usr/local/lib/python3.7/dist-packages/ipykernel_launcher.py:43: RuntimeWarning: overflow encountered in exp\n",
            "                                             "
          ],
          "name": "stderr"
        },
        {
          "output_type": "stream",
          "text": [
            "Best likelihood: -18914.225859776645\n",
            "Accept raito: 0.00482\n",
            "терыйзиюезопмещчиузшийферпсиузмпфбчоер узызоиюезрзшдйочцячйпзрифбйчвзейзшебйедщеюезцрефпмчзвефекиизпуиопизрзцрибйпзцыкзпщпзмчмзеозр фчхчийбдзбзйивзшефзмчмзфчтуихирчщбдзбзмфибйьдочупзпзтчрищзгифуызрзцризй бдспзцибдйпозтиущпзейиязиюезаеирелзюиоифчщзюецчзшещыюфчуейо лзюфыа лзоезоизтщелзфыббмплзсищеримзрбжзхптоьзбрежзйдоыщзщдумызмеучоцерчщзбшифрчзафпючцелзшейеузцпрптпилзпзшебйедооезхпщзрзшферпояппзюцизрзбпщызбреиюезспочзпюфчщзцерещьоезточспйищьоыжзфещьзопмещчлзшийферпсзфецпщбдзочзжюизфеббппзшецеаоезбйчфкиуызбреиуызафчйызшчрщызезмейефеузфисьзршифицпзпзребшпй рчщбдзцезсий фочцячйпщийоиюезретфчбйчзцеучземфыхиоо лзцикир упзюырифоифчупзфчтрдто упзоезшецеаебйфчбйо упзчцъжйчойчупзпзшфеспупзшещмер упзпзкйчао упзщпсоебйдупзфецпйищьопячзиюезптзгчупщппзмещдтпо взрзцирпячвзчзрзюиоифчщькчвзчючгемщидзмытьупопкочзмпфбчоерчзшфпочцщихчщчзмзспбщызучйыкиммеучоцпфкзоебпщчзш ко изсишя зпзкыуо изкищмер изшщчйьдзрзяифмрпзшецвецпщчзшифрчдзмезмфибйызюерефпщчзюфеумезпзуоеюезцешыбмчщчзцийилзыйфеузмзфысмизочзоесьзпвзащчюебщерщдщчзбщереузхпщчзрзбреизыцерещьбйрпизрзмчсибйризюиоифчщьбмеюезб очзопмещчлзшийферпсзвейдзоизйещьмезоизейщпсчщбдзвфчафебйьжзоезцчхизтчбщыхпщзшфетрпнизйфыбпкмпзцещхиоза щзшецеаоезафчйызшчрщызшебйышпйьзрзреиооыжзбщыхаызоезеозшифищеупщзбиаизоеюызрзбчу лзйейзциоьзмеюцчзыхизшфпа щезптрибйпизеазиюезешфицищиоппзпзшфещихчрзцрчзуибдячзрзшебйищпзочзрбжзхптоьзебйчщбдзвфеуиоьмпузейиязучвоыщзочзоиюезфымелзпзшыбйпщзиюезшезкйчйбмелзеозшеритзиюезрзшийифаыфюзмчмзйещьмезиуызупоыщзребиуочцячй лзюецзпзшеуибйпщзиюезрзыоприфбпйийзмбйчйпзафчйзиюезезйызшефызр кищзегпяифеузрзюрчфцилбмплзшещмзуещец изщжцпзбйчщпзхпйьзрцреиузочзецоелзмрчфйпфизшецзейцчщиоо узочцтефеузцрежфецоеюезцдцпзбзучйифпобмелзбйефео зпщьпзмещдтпочзрчхоеюезспоеропмчзейиязпвзрифоыщбдзмзбреилзцпрптппзпзмзбреилзбышфыюизпзщпкьзптфицмчзшфпб щчщзб оерьдузаещькпизсийрифйыкмпзбифелзаыучюпзпбшинфиоо изфчтучкпбй узшпбчфбмпузшесифмеу\n",
            "зовут его николаем петровичем кирсановым у него в пятнадцати верстах от постоялого дворика хорошее имение в двести душ или как он выражается с тех пор как размежевался с крестьянами и завел ферму в две тысячи десятин земли отец его боевой генерал года полуграмотный грубый но не злой русский человек всю жизнь свою тянул лямку командовал сперва бригадой потом дивизией и постоянно жил в провинции где в силу своего чина играл довольно значительную роль николай петрович родился на юге россии подобно старшему своему брату павлу о котором речь впереди и воспитывался до четырнадцатилетнего возраста дома окруженный дешевыми гувернерами развязными но подобострастными адъютантами и прочими полковыми и штабными личностями родительница его из фамилии колязиных в девицах а в генеральшах агафоклея кузьминишна кирсанова принадлежала к числу матушеккомандирш носила пышные чепцы и шумные шелковые платья в церкви подходила первая ко кресту говорила громко и много допускала детей утром к ручке на ночь их благословляла словом жила в свое удовольствие в качестве генеральского сына николай петрович хотя не только не отличался храбростью но даже заслужил прозвище трусишки должен был подобно брату павлу поступить в военную службу но он переломил себе ногу в самый тот день когда уже прибыло известие об его определении и пролежав два месяца в постели на всю жизнь остался хроменьким отец махнул на него рукой и пустил его по штатской он повез его в петербург как только ему минул восемнадцатый год и поместил его в университет кстати брат его о ту пору вышел офицером в гвардейский полк молодые люди стали жить вдвоем на одной квартире под отдаленным надзором двоюродного дяди с материнской стороны ильи колязина важного чиновника отец их вернулся к своей дивизии и к своей супруге и лишь изредка присылал сыновьям большие четвертушки серой бумаги испещренные размашистым писарским почерком\n",
            "1.0\n"
          ],
          "name": "stdout"
        },
        {
          "output_type": "stream",
          "text": [
            "\r"
          ],
          "name": "stderr"
        }
      ]
    },
    {
      "cell_type": "code",
      "metadata": {
        "id": "NA3towjjnPUr"
      },
      "source": [
        "short_text = 'Николай Петрович быстро обернулся и, подойдя к человеку высокого роста в длинном балахоне с кистями, только что вылезшему из тарантаса, крепко стиснул его обнаженную красную руку, которую тот не сразу ему подал'"
      ],
      "execution_count": 84,
      "outputs": []
    },
    {
      "cell_type": "code",
      "metadata": {
        "colab": {
          "base_uri": "https://localhost:8080/"
        },
        "id": "dySNlEexnAer",
        "outputId": "93f417e2-8d3b-4906-9061-0543b908b77d"
      },
      "source": [
        "mapping = generate_mapping(corpus_freqs)\n",
        "encoded_text = apply_mapping(short_text, mapping)\n",
        "text_freqs = get_freqs(encoded_text)\n",
        "\n",
        "corpus_freqs_sorted = sorted(corpus_freqs.items(), key=lambda x: x[1], reverse=True)\n",
        "text_freqs_sorted = sorted(text_freqs.items(), key=lambda x: x[1], reverse=True)\n",
        "\n",
        "alphabet_corpus = ''.join([c for c, _ in corpus_freqs_sorted])\n",
        "alphabet_text = ''.join([c for c, _ in text_freqs_sorted])\n",
        "alphabet_corpus, alphabet_text"
      ],
      "execution_count": 85,
      "outputs": [
        {
          "output_type": "execute_result",
          "data": {
            "text/plain": [
              "(' оеанитслвркдмупяьгыбзчжйшхюэцщфъ', 'яйьпу ктмвыжсеюдиагъзэфнлщхц')"
            ]
          },
          "metadata": {
            "tags": []
          },
          "execution_count": 85
        }
      ]
    },
    {
      "cell_type": "code",
      "metadata": {
        "id": "OduNaYINn5xG"
      },
      "source": [
        "freqs_corpus_fourgramm = get_freqs_smooth(tokenized_corpus, n_gram=4)"
      ],
      "execution_count": 86,
      "outputs": []
    },
    {
      "cell_type": "code",
      "metadata": {
        "colab": {
          "base_uri": "https://localhost:8080/"
        },
        "id": "pNUgic12n3ho",
        "outputId": "a9e408bd-2f01-4db3-f9b7-7b2edcabdb23"
      },
      "source": [
        "best_reverse_mapping, _ = get_reverse_mapping_mcmc(\n",
        "    encoded_text, \n",
        "    alphabet_encoded=alphabet_text, \n",
        "    alphabet_corpus=alphabet_corpus,\n",
        "    freqs_corpus=freqs_corpus_fourgramm,\n",
        "    n_gram=4,\n",
        "    n_iters=10000,\n",
        "    n_trials=5,\n",
        ")\n",
        "\n",
        "print(encoded_text)\n",
        "decoded_text = apply_mapping(encoded_text, best_reverse_mapping)\n",
        "print(decoded_text)\n",
        "print(char_accuracy(short_text, decoded_text))"
      ],
      "execution_count": 88,
      "outputs": [
        {
          "output_type": "stream",
          "text": [
            "                                             "
          ],
          "name": "stderr"
        },
        {
          "output_type": "stream",
          "text": [
            "Best likelihood: -2102.0483719206836\n",
            "Accept raito: 0.03346\n",
            "ьж йыьфяьпувйсжияеакувйяйепвтмыкгяжьяъйюйфюгя яипыйсп мясакй йнйявйкуьясяюыжттйдяеьыьлйтпякя жкугджьяуйыщ йяиуйясаыпзхпдмяжзяуьвьтуькьья впъ йякужктмыяпнйяйетьцпттмэя вьктмэявм мья йуйвмэяуйуятпяквьзмяпдмяъйюьы\n",
            "аиколай аетрович быстро обернулся иа подойдя к человеку высокого роста в длинном балахоне с кистямиа только что вылезшему из тарантасаа крепко стиснул его обнаженную красную рукуа которую тот не сразу ему подал\n",
            "0.9714285714285714\n"
          ],
          "name": "stdout"
        },
        {
          "output_type": "stream",
          "text": [
            "\r"
          ],
          "name": "stderr"
        }
      ]
    },
    {
      "cell_type": "code",
      "metadata": {
        "id": "qMNXovs8oyr2"
      },
      "source": [
        "freqs_corpus_trigramm = get_freqs_smooth(tokenized_corpus, n_gram=3)"
      ],
      "execution_count": 89,
      "outputs": []
    },
    {
      "cell_type": "code",
      "metadata": {
        "colab": {
          "base_uri": "https://localhost:8080/"
        },
        "id": "gWJOMv2yo77w",
        "outputId": "f7a70db4-1d53-479e-d7c4-4f245133ad14"
      },
      "source": [
        "best_reverse_mapping, _ = get_reverse_mapping_mcmc(\n",
        "    encoded_text, \n",
        "    alphabet_encoded=alphabet_text, \n",
        "    alphabet_corpus=alphabet_corpus,\n",
        "    freqs_corpus=freqs_corpus_trigramm,\n",
        "    n_gram=3,\n",
        "    n_iters=10000,\n",
        "    n_trials=5,\n",
        ")\n",
        "\n",
        "print(encoded_text)\n",
        "decoded_text = apply_mapping(encoded_text, best_reverse_mapping)\n",
        "print(decoded_text)\n",
        "print(char_accuracy(short_text, decoded_text))"
      ],
      "execution_count": 90,
      "outputs": [
        {
          "output_type": "stream",
          "text": [
            "                                             "
          ],
          "name": "stderr"
        },
        {
          "output_type": "stream",
          "text": [
            "Best likelihood: -1675.6677374485785\n",
            "Accept raito: 0.0377\n",
            "ьж йыьфяьпувйсжияеакувйяйепвтмыкгяжьяъйюйфюгя яипыйсп мясакй йнйявйкуьясяюыжттйдяеьыьлйтпякя жкугджьяуйыщ йяиуйясаыпзхпдмяжзяуьвьтуькьья впъ йякужктмыяпнйяйетьцпттмэя вьктмэявм мья йуйвмэяуйуятпяквьзмяпдмяъйюьы\n",
            "аьколах аетровьч быстро обернился ьа подохдя к человеки высокого роста в дльнном балаъоне с кьстямьа толуко что вылезщеми ьз тарантасаа крепко стьснил его обнашенний красний рикиа которий тот не срази еми подал\n",
            "0.8380952380952381\n"
          ],
          "name": "stdout"
        },
        {
          "output_type": "stream",
          "text": [
            "\r"
          ],
          "name": "stderr"
        }
      ]
    },
    {
      "cell_type": "markdown",
      "metadata": {
        "id": "wd2ede4EoWkG"
      },
      "source": [
        "Вывод: При достаточно большом тексте 4-граммы работают отлично. Возможно при правильном подборе гиперапаметров и увеличении размера n-грамм точность тоже увеличивается даже для коротких текстов"
      ]
    },
    {
      "cell_type": "markdown",
      "metadata": {
        "id": "kvd4kFD0pwV9"
      },
      "source": [
        "**Бонус: какие вы можете придумать применения для этой модели?**\n",
        " Пляшущие человечки ведь не так часто встречаются в жизни \n",
        " (хотя встречаются! и это самое потрясающее во всей этой истории, но об этом я расскажу потом).\n",
        "\n"
      ]
    },
    {
      "cell_type": "markdown",
      "metadata": {
        "id": "1rzhnju1p-_v"
      },
      "source": [
        "Возможно что такие модели можно использовать для сжатия больших данных и передачи информации.\n",
        "Также возможно применение в биоинформатике для работы с последовательностями ДНК и РНК"
      ]
    },
    {
      "cell_type": "code",
      "metadata": {
        "id": "hhlLGoR9shFn"
      },
      "source": [
        ""
      ],
      "execution_count": null,
      "outputs": []
    }
  ]
}